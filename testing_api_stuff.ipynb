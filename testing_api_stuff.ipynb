{
 "cells": [
  {
   "cell_type": "code",
   "execution_count": 3,
   "metadata": {},
   "outputs": [],
   "source": [
    "import spotipy\n",
    "from spotipy.oauth2 import SpotifyClientCredentials\n",
    "from client_info import cid, cs as secret\n",
    "import pandas as pd"
   ]
  },
  {
   "cell_type": "code",
   "execution_count": 4,
   "metadata": {},
   "outputs": [],
   "source": [
    "#Authentication - without user\n",
    "client_credentials_manager = SpotifyClientCredentials(client_id=cid, client_secret=secret)\n",
    "sp = spotipy.Spotify(client_credentials_manager = client_credentials_manager)\n"
   ]
  },
  {
   "cell_type": "code",
   "execution_count": 5,
   "metadata": {},
   "outputs": [],
   "source": [
    "#>=500 million plays \n",
    "#https://open.spotify.com/playlist/2YRe7HRKNRvXdJBp9nXFza?si=\\198755290d2c4102\n",
    "\n",
    "mil_playlist_url = 'https://open.spotify.com/playlist/2YRe7HRKNRvXdJBp9nXFza?si=\\198755290d2c4102'\n",
    "song_list = sp.playlist(mil_playlist_url)"
   ]
  },
  {
   "cell_type": "code",
   "execution_count": 6,
   "metadata": {},
   "outputs": [
    {
     "name": "stdout",
     "output_type": "stream",
     "text": [
      "['collaborative', 'description', 'external_urls', 'followers', 'href', 'id', 'images', 'name', 'owner', 'primary_color', 'public', 'snapshot_id', 'tracks', 'type', 'uri']\n",
      "<class 'list'>\n"
     ]
    }
   ],
   "source": [
    "print(list(song_list.keys()))\n",
    "print(type(song_list['tracks']['items']))\n"
   ]
  },
  {
   "cell_type": "code",
   "execution_count": 7,
   "metadata": {},
   "outputs": [
    {
     "name": "stdout",
     "output_type": "stream",
     "text": [
      "spotify:track:7qiZfU4dY1lWllzX7mPBI3\n",
      "https://open.spotify.com/track/7qiZfU4dY1lWllzX7mPBI3\n",
      "7qiZfU4dY1lWllzX7mPBI3\n"
     ]
    }
   ],
   "source": [
    "\n",
    "#playlist_name['tracks']['items'][track_index]['track']['uri'] to get track uri\n",
    "track_uri=first_track_uri=song_list['tracks']['items'][0]['track']['uri']\n",
    "print(track_uri)\n",
    "\n",
    "#get track url\n",
    "track_url=sp.track((first_track_uri))['external_urls']['spotify']\n",
    "print(track_url)\n",
    "\n",
    "#get track id\n",
    "track_id=sp.track(first_track_uri)['id']\n",
    "print(track_id)\n",
    "\n"
   ]
  },
  {
   "cell_type": "code",
   "execution_count": 11,
   "metadata": {},
   "outputs": [
    {
     "data": {
      "text/plain": [
       "{'danceability': 0.825,\n",
       " 'energy': 0.652,\n",
       " 'key': 1,\n",
       " 'loudness': -3.183,\n",
       " 'mode': 0,\n",
       " 'speechiness': 0.0802,\n",
       " 'acousticness': 0.581,\n",
       " 'instrumentalness': 0,\n",
       " 'liveness': 0.0931,\n",
       " 'valence': 0.931,\n",
       " 'tempo': 95.977,\n",
       " 'type': 'audio_features',\n",
       " 'id': '7qiZfU4dY1lWllzX7mPBI3',\n",
       " 'uri': 'spotify:track:7qiZfU4dY1lWllzX7mPBI3',\n",
       " 'track_href': 'https://api.spotify.com/v1/tracks/7qiZfU4dY1lWllzX7mPBI3',\n",
       " 'analysis_url': 'https://api.spotify.com/v1/audio-analysis/7qiZfU4dY1lWllzX7mPBI3',\n",
       " 'duration_ms': 233713,\n",
       " 'time_signature': 4}"
      ]
     },
     "execution_count": 11,
     "metadata": {},
     "output_type": "execute_result"
    }
   ],
   "source": [
    "#get features\n",
    "track_features = sp.audio_features(track_id)[0]\n",
    "track_features\n",
    "\n",
    "#important features: acousticness, danceability, duration_ms, energy, instrumentalness,\n",
    "#key, liveness, loudness, mode, speechiness, tempo, time_signature, valence"
   ]
  },
  {
   "cell_type": "code",
   "execution_count": 9,
   "metadata": {},
   "outputs": [
    {
     "name": "stdout",
     "output_type": "stream",
     "text": [
      "dict_keys(['meta', 'track', 'bars', 'beats', 'sections', 'segments', 'tatums'])\n",
      "dict_keys(['num_samples', 'duration', 'sample_md5', 'offset_seconds', 'window_seconds', 'analysis_sample_rate', 'analysis_channels', 'end_of_fade_in', 'start_of_fade_out', 'loudness', 'tempo', 'tempo_confidence', 'time_signature', 'time_signature_confidence', 'key', 'key_confidence', 'mode', 'mode_confidence', 'codestring', 'code_version', 'echoprintstring', 'echoprint_version', 'synchstring', 'synch_version', 'rhythmstring', 'rhythm_version'])\n"
     ]
    }
   ],
   "source": [
    "#get analysis\n",
    "analysis = sp.audio_analysis(track_id)\n",
    "print(analysis.keys())\n",
    "print(analysis['track'].keys())\n"
   ]
  },
  {
   "cell_type": "code",
   "execution_count": 19,
   "metadata": {},
   "outputs": [
    {
     "name": "stdout",
     "output_type": "stream",
     "text": [
      "[0.581, 0.825, 233713, 0.652, 0, 1, 0.0931, -3.183, 0, 0.0802, 95.977, 4, 0.931]\n"
     ]
    },
    {
     "data": {
      "text/html": [
       "<div>\n",
       "<style scoped>\n",
       "    .dataframe tbody tr th:only-of-type {\n",
       "        vertical-align: middle;\n",
       "    }\n",
       "\n",
       "    .dataframe tbody tr th {\n",
       "        vertical-align: top;\n",
       "    }\n",
       "\n",
       "    .dataframe thead th {\n",
       "        text-align: right;\n",
       "    }\n",
       "</style>\n",
       "<table border=\"1\" class=\"dataframe\">\n",
       "  <thead>\n",
       "    <tr style=\"text-align: right;\">\n",
       "      <th></th>\n",
       "      <th>0</th>\n",
       "    </tr>\n",
       "  </thead>\n",
       "  <tbody>\n",
       "    <tr>\n",
       "      <th>danceability</th>\n",
       "      <td>0.825</td>\n",
       "    </tr>\n",
       "    <tr>\n",
       "      <th>energy</th>\n",
       "      <td>0.652</td>\n",
       "    </tr>\n",
       "    <tr>\n",
       "      <th>key</th>\n",
       "      <td>1</td>\n",
       "    </tr>\n",
       "    <tr>\n",
       "      <th>loudness</th>\n",
       "      <td>-3.183</td>\n",
       "    </tr>\n",
       "    <tr>\n",
       "      <th>mode</th>\n",
       "      <td>0</td>\n",
       "    </tr>\n",
       "    <tr>\n",
       "      <th>speechiness</th>\n",
       "      <td>0.0802</td>\n",
       "    </tr>\n",
       "    <tr>\n",
       "      <th>acousticness</th>\n",
       "      <td>0.581</td>\n",
       "    </tr>\n",
       "    <tr>\n",
       "      <th>instrumentalness</th>\n",
       "      <td>0</td>\n",
       "    </tr>\n",
       "    <tr>\n",
       "      <th>liveness</th>\n",
       "      <td>0.0931</td>\n",
       "    </tr>\n",
       "    <tr>\n",
       "      <th>valence</th>\n",
       "      <td>0.931</td>\n",
       "    </tr>\n",
       "    <tr>\n",
       "      <th>tempo</th>\n",
       "      <td>95.977</td>\n",
       "    </tr>\n",
       "    <tr>\n",
       "      <th>type</th>\n",
       "      <td>audio_features</td>\n",
       "    </tr>\n",
       "    <tr>\n",
       "      <th>id</th>\n",
       "      <td>7qiZfU4dY1lWllzX7mPBI3</td>\n",
       "    </tr>\n",
       "    <tr>\n",
       "      <th>uri</th>\n",
       "      <td>spotify:track:7qiZfU4dY1lWllzX7mPBI3</td>\n",
       "    </tr>\n",
       "    <tr>\n",
       "      <th>track_href</th>\n",
       "      <td>https://api.spotify.com/v1/tracks/7qiZfU4dY1lW...</td>\n",
       "    </tr>\n",
       "    <tr>\n",
       "      <th>analysis_url</th>\n",
       "      <td>https://api.spotify.com/v1/audio-analysis/7qiZ...</td>\n",
       "    </tr>\n",
       "    <tr>\n",
       "      <th>duration_ms</th>\n",
       "      <td>233713</td>\n",
       "    </tr>\n",
       "    <tr>\n",
       "      <th>time_signature</th>\n",
       "      <td>4</td>\n",
       "    </tr>\n",
       "  </tbody>\n",
       "</table>\n",
       "</div>"
      ],
      "text/plain": [
       "                                                                  0\n",
       "danceability                                                  0.825\n",
       "energy                                                        0.652\n",
       "key                                                               1\n",
       "loudness                                                     -3.183\n",
       "mode                                                              0\n",
       "speechiness                                                  0.0802\n",
       "acousticness                                                  0.581\n",
       "instrumentalness                                                  0\n",
       "liveness                                                     0.0931\n",
       "valence                                                       0.931\n",
       "tempo                                                        95.977\n",
       "type                                                 audio_features\n",
       "id                                           7qiZfU4dY1lWllzX7mPBI3\n",
       "uri                            spotify:track:7qiZfU4dY1lWllzX7mPBI3\n",
       "track_href        https://api.spotify.com/v1/tracks/7qiZfU4dY1lW...\n",
       "analysis_url      https://api.spotify.com/v1/audio-analysis/7qiZ...\n",
       "duration_ms                                                  233713\n",
       "time_signature                                                    4"
      ]
     },
     "execution_count": 19,
     "metadata": {},
     "output_type": "execute_result"
    }
   ],
   "source": [
    "#track features dict to array\n",
    "feature_keys=['acousticness', 'danceability', 'duration_ms', 'energy', \\\n",
    "    'instrumentalness', 'key', 'liveness', 'loudness', 'mode', 'speechiness', \\\n",
    "        'tempo', 'time_signature', 'valence']\n",
    "track_info = [track_features[key] for key in feature_keys]\n",
    "print(track_info)\n",
    "\n",
    "track_df = pd.DataFrame().from_dict(track_features, orient='index')\n",
    "track_df"
   ]
  },
  {
   "cell_type": "code",
   "execution_count": null,
   "metadata": {},
   "outputs": [],
   "source": []
  }
 ],
 "metadata": {
  "kernelspec": {
   "display_name": "Python 3",
   "language": "python",
   "name": "python3"
  },
  "language_info": {
   "codemirror_mode": {
    "name": "ipython",
    "version": 3
   },
   "file_extension": ".py",
   "mimetype": "text/x-python",
   "name": "python",
   "nbconvert_exporter": "python",
   "pygments_lexer": "ipython3",
   "version": "3.10.4"
  },
  "orig_nbformat": 4,
  "vscode": {
   "interpreter": {
    "hash": "369f2c481f4da34e4445cda3fffd2e751bd1c4d706f27375911949ba6bb62e1c"
   }
  }
 },
 "nbformat": 4,
 "nbformat_minor": 2
}
