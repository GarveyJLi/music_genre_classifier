{
 "cells": [
  {
   "cell_type": "code",
   "execution_count": 2,
   "metadata": {},
   "outputs": [],
   "source": [
    "import spotipy\n",
    "from spotipy.oauth2 import SpotifyClientCredentials\n",
    "from client_info import cid, cs as secret\n",
    "import pandas as pd\n",
    "import numpy as np"
   ]
  },
  {
   "cell_type": "code",
   "execution_count": 3,
   "metadata": {},
   "outputs": [],
   "source": [
    "#Authentication - without user\n",
    "client_credentials_manager = SpotifyClientCredentials(client_id=cid, client_secret=secret)\n",
    "sp = spotipy.Spotify(client_credentials_manager = client_credentials_manager)\n"
   ]
  },
  {
   "cell_type": "code",
   "execution_count": 4,
   "metadata": {},
   "outputs": [],
   "source": [
    "#>=500 million plays \n",
    "#https://open.spotify.com/playlist/2YRe7HRKNRvXdJBp9nXFza?si=\\198755290d2c4102\n",
    "\n",
    "#mil_playlist_url = 'https://open.spotify.com/playlist/2YRe7HRKNRvXdJBp9nXFza?si=\\198755290d2c4102'\n",
    "#song_list = sp.playlist(mil_playlist_url)\n",
    "\n",
    "#my playlist\n",
    "# https://open.spotify.com/playlist/5Yar4godptp0RQbYRkas8K?si=a91e4503d890495c\n",
    "my_url = 'https://open.spotify.com/playlist/5Yar4godptp0RQbYRkas8K?si=a91e4503d890495c'\n",
    "song_list = sp.playlist(my_url)\n"
   ]
  },
  {
   "cell_type": "code",
   "execution_count": 5,
   "metadata": {},
   "outputs": [
    {
     "name": "stdout",
     "output_type": "stream",
     "text": [
      "dict_keys(['collaborative', 'description', 'external_urls', 'followers', 'href', 'id', 'images', 'name', 'owner', 'primary_color', 'public', 'snapshot_id', 'tracks', 'type', 'uri'])\n",
      "\n",
      "\n",
      "dict_keys(['href', 'items', 'limit', 'next', 'offset', 'previous', 'total'])\n",
      "24\n"
     ]
    }
   ],
   "source": [
    "print((song_list.keys()))\n",
    "print('\\n')\n",
    "print((song_list['tracks'].keys()))\n",
    "print(len(song_list['tracks']['items']))\n"
   ]
  },
  {
   "cell_type": "code",
   "execution_count": 6,
   "metadata": {},
   "outputs": [
    {
     "name": "stdout",
     "output_type": "stream",
     "text": [
      "spotify:track:4z11brnmIkePDnP3L1siz5\n",
      "https://open.spotify.com/track/4z11brnmIkePDnP3L1siz5\n",
      "4z11brnmIkePDnP3L1siz5\n"
     ]
    }
   ],
   "source": [
    "\n",
    "#playlist_name['tracks']['items'][track_index]['track']['uri'] to get track uri\n",
    "track_uri=first_track_uri=song_list['tracks']['items'][0]['track']['uri']\n",
    "print(track_uri)\n",
    "\n",
    "#get track url\n",
    "track_url=sp.track((first_track_uri))['external_urls']['spotify']\n",
    "print(track_url)\n",
    "\n",
    "#get track id\n",
    "track_id=sp.track(first_track_uri)['id']\n",
    "print(track_id)\n",
    "\n"
   ]
  },
  {
   "cell_type": "code",
   "execution_count": 12,
   "metadata": {},
   "outputs": [
    {
     "data": {
      "text/plain": [
       "[{'external_urls': {'spotify': 'https://open.spotify.com/artist/5ti5FPHgtaSf15KcUisZMt'},\n",
       "  'href': 'https://api.spotify.com/v1/artists/5ti5FPHgtaSf15KcUisZMt',\n",
       "  'id': '5ti5FPHgtaSf15KcUisZMt',\n",
       "  'name': 'maye',\n",
       "  'type': 'artist',\n",
       "  'uri': 'spotify:artist:5ti5FPHgtaSf15KcUisZMt'}]"
      ]
     },
     "execution_count": 12,
     "metadata": {},
     "output_type": "execute_result"
    }
   ],
   "source": [
    "artist=sp.track(first_track_uri)['artists'][0]['uri']\n",
    "sp.artist(artist)['genres']\n",
    "sp.track(first_track_uri)['artists']"
   ]
  },
  {
   "cell_type": "code",
   "execution_count": 8,
   "metadata": {},
   "outputs": [
    {
     "data": {
      "text/plain": [
       "{'danceability': 0.672,\n",
       " 'energy': 0.658,\n",
       " 'key': 6,\n",
       " 'loudness': -8.919,\n",
       " 'mode': 1,\n",
       " 'speechiness': 0.0865,\n",
       " 'acousticness': 0.565,\n",
       " 'instrumentalness': 0.0016,\n",
       " 'liveness': 0.118,\n",
       " 'valence': 0.556,\n",
       " 'tempo': 160.05,\n",
       " 'type': 'audio_features',\n",
       " 'id': '4z11brnmIkePDnP3L1siz5',\n",
       " 'uri': 'spotify:track:4z11brnmIkePDnP3L1siz5',\n",
       " 'track_href': 'https://api.spotify.com/v1/tracks/4z11brnmIkePDnP3L1siz5',\n",
       " 'analysis_url': 'https://api.spotify.com/v1/audio-analysis/4z11brnmIkePDnP3L1siz5',\n",
       " 'duration_ms': 168095,\n",
       " 'time_signature': 4}"
      ]
     },
     "execution_count": 8,
     "metadata": {},
     "output_type": "execute_result"
    }
   ],
   "source": [
    "#get features\n",
    "track_features = sp.audio_features(track_id)[0]\n",
    "track_features\n",
    "\n",
    "#important features: acousticness, danceability, duration_ms, energy, instrumentalness,\n",
    "#key, liveness, loudness, mode, speechiness, tempo, time_signature, valence"
   ]
  },
  {
   "cell_type": "code",
   "execution_count": 9,
   "metadata": {},
   "outputs": [
    {
     "name": "stdout",
     "output_type": "stream",
     "text": [
      "dict_keys(['meta', 'track', 'bars', 'beats', 'sections', 'segments', 'tatums'])\n",
      "\n",
      "\n",
      "dict_keys(['num_samples', 'duration', 'sample_md5', 'offset_seconds', 'window_seconds', 'analysis_sample_rate', 'analysis_channels', 'end_of_fade_in', 'start_of_fade_out', 'loudness', 'tempo', 'tempo_confidence', 'time_signature', 'time_signature_confidence', 'key', 'key_confidence', 'mode', 'mode_confidence', 'codestring', 'code_version', 'echoprintstring', 'echoprint_version', 'synchstring', 'synch_version', 'rhythmstring', 'rhythm_version'])\n"
     ]
    }
   ],
   "source": [
    "#get analysis\n",
    "analysis = sp.audio_analysis(track_id)\n",
    "print(analysis.keys())\n",
    "print('\\n')\n",
    "print(analysis['track'].keys())\n"
   ]
  },
  {
   "cell_type": "code",
   "execution_count": 10,
   "metadata": {},
   "outputs": [
    {
     "name": "stdout",
     "output_type": "stream",
     "text": [
      "[{'danceability': 0.672, 'energy': 0.658, 'key': 6, 'loudness': -8.919, 'mode': 1, 'speechiness': 0.0865, 'acousticness': 0.565, 'instrumentalness': 0.0016, 'liveness': 0.118, 'valence': 0.556, 'tempo': 160.05, 'type': 'audio_features', 'id': '4z11brnmIkePDnP3L1siz5', 'uri': 'spotify:track:4z11brnmIkePDnP3L1siz5', 'track_href': 'https://api.spotify.com/v1/tracks/4z11brnmIkePDnP3L1siz5', 'analysis_url': 'https://api.spotify.com/v1/audio-analysis/4z11brnmIkePDnP3L1siz5', 'duration_ms': 168095, 'time_signature': 4, 'name': 'Versos de Placer', 'artist': 'maye'}]\n"
     ]
    },
    {
     "data": {
      "text/html": [
       "<div>\n",
       "<style scoped>\n",
       "    .dataframe tbody tr th:only-of-type {\n",
       "        vertical-align: middle;\n",
       "    }\n",
       "\n",
       "    .dataframe tbody tr th {\n",
       "        vertical-align: top;\n",
       "    }\n",
       "\n",
       "    .dataframe thead th {\n",
       "        text-align: right;\n",
       "    }\n",
       "</style>\n",
       "<table border=\"1\" class=\"dataframe\">\n",
       "  <thead>\n",
       "    <tr style=\"text-align: right;\">\n",
       "      <th></th>\n",
       "      <th>danceability</th>\n",
       "      <th>energy</th>\n",
       "      <th>key</th>\n",
       "      <th>loudness</th>\n",
       "      <th>mode</th>\n",
       "      <th>speechiness</th>\n",
       "      <th>acousticness</th>\n",
       "      <th>instrumentalness</th>\n",
       "      <th>liveness</th>\n",
       "      <th>valence</th>\n",
       "      <th>tempo</th>\n",
       "      <th>type</th>\n",
       "      <th>id</th>\n",
       "      <th>uri</th>\n",
       "      <th>track_href</th>\n",
       "      <th>analysis_url</th>\n",
       "      <th>duration_ms</th>\n",
       "      <th>time_signature</th>\n",
       "      <th>name</th>\n",
       "      <th>artist</th>\n",
       "    </tr>\n",
       "  </thead>\n",
       "  <tbody>\n",
       "    <tr>\n",
       "      <th>0</th>\n",
       "      <td>0.672</td>\n",
       "      <td>0.658</td>\n",
       "      <td>6</td>\n",
       "      <td>-8.919</td>\n",
       "      <td>1</td>\n",
       "      <td>0.0865</td>\n",
       "      <td>0.565</td>\n",
       "      <td>0.0016</td>\n",
       "      <td>0.118</td>\n",
       "      <td>0.556</td>\n",
       "      <td>160.05</td>\n",
       "      <td>audio_features</td>\n",
       "      <td>4z11brnmIkePDnP3L1siz5</td>\n",
       "      <td>spotify:track:4z11brnmIkePDnP3L1siz5</td>\n",
       "      <td>https://api.spotify.com/v1/tracks/4z11brnmIkeP...</td>\n",
       "      <td>https://api.spotify.com/v1/audio-analysis/4z11...</td>\n",
       "      <td>168095</td>\n",
       "      <td>4</td>\n",
       "      <td>Versos de Placer</td>\n",
       "      <td>maye</td>\n",
       "    </tr>\n",
       "  </tbody>\n",
       "</table>\n",
       "</div>"
      ],
      "text/plain": [
       "   danceability  energy  key  loudness  mode  speechiness  acousticness  \\\n",
       "0         0.672   0.658    6    -8.919     1       0.0865         0.565   \n",
       "\n",
       "   instrumentalness  liveness  valence   tempo            type  \\\n",
       "0            0.0016     0.118    0.556  160.05  audio_features   \n",
       "\n",
       "                       id                                   uri  \\\n",
       "0  4z11brnmIkePDnP3L1siz5  spotify:track:4z11brnmIkePDnP3L1siz5   \n",
       "\n",
       "                                          track_href  \\\n",
       "0  https://api.spotify.com/v1/tracks/4z11brnmIkeP...   \n",
       "\n",
       "                                        analysis_url  duration_ms  \\\n",
       "0  https://api.spotify.com/v1/audio-analysis/4z11...       168095   \n",
       "\n",
       "   time_signature              name artist  \n",
       "0               4  Versos de Placer   maye  "
      ]
     },
     "execution_count": 10,
     "metadata": {},
     "output_type": "execute_result"
    }
   ],
   "source": [
    "#track features dict to array\n",
    "feature_keys=['acousticness', 'danceability', 'duration_ms', 'energy', \\\n",
    "    'instrumentalness', 'key', 'liveness', 'loudness', 'mode', 'speechiness', \\\n",
    "        'tempo', 'time_signature', 'valence']\n",
    "track_info = []\n",
    "track_info.append(track_features)\n",
    "track_info[0]['name'] = sp.track(first_track_uri)['name']\n",
    "track_info[0]['artist'] = sp.track(first_track_uri)['artists'][0]['name']\n",
    "print(track_info)\n",
    "\n",
    "track_df = pd.DataFrame.from_dict(track_info, orient='columns')\n",
    "track_df"
   ]
  },
  {
   "cell_type": "code",
   "execution_count": 14,
   "metadata": {},
   "outputs": [
    {
     "data": {
      "text/plain": [
       "[{'external_urls': {'spotify': 'https://open.spotify.com/artist/246dkjvS1zLTtiykXe5h60'},\n",
       "  'href': 'https://api.spotify.com/v1/artists/246dkjvS1zLTtiykXe5h60',\n",
       "  'id': '246dkjvS1zLTtiykXe5h60',\n",
       "  'name': 'Post Malone',\n",
       "  'type': 'artist',\n",
       "  'uri': 'spotify:artist:246dkjvS1zLTtiykXe5h60'},\n",
       " {'external_urls': {'spotify': 'https://open.spotify.com/artist/1URnnhqYAYcrqrcwql10ft'},\n",
       "  'href': 'https://api.spotify.com/v1/artists/1URnnhqYAYcrqrcwql10ft',\n",
       "  'id': '1URnnhqYAYcrqrcwql10ft',\n",
       "  'name': '21 Savage',\n",
       "  'type': 'artist',\n",
       "  'uri': 'spotify:artist:1URnnhqYAYcrqrcwql10ft'}]"
      ]
     },
     "execution_count": 14,
     "metadata": {},
     "output_type": "execute_result"
    }
   ],
   "source": [
    "rockstar_uri = 'spotify:track:0e7ipj03S05BNilyu5bRzt'\n",
    "artists=sp.track(rockstar_uri)['artists']\n",
    "artists"
   ]
  },
  {
   "cell_type": "code",
   "execution_count": null,
   "metadata": {},
   "outputs": [],
   "source": []
  }
 ],
 "metadata": {
  "kernelspec": {
   "display_name": "Python 3",
   "language": "python",
   "name": "python3"
  },
  "language_info": {
   "codemirror_mode": {
    "name": "ipython",
    "version": 3
   },
   "file_extension": ".py",
   "mimetype": "text/x-python",
   "name": "python",
   "nbconvert_exporter": "python",
   "pygments_lexer": "ipython3",
   "version": "3.10.4"
  },
  "orig_nbformat": 4,
  "vscode": {
   "interpreter": {
    "hash": "369f2c481f4da34e4445cda3fffd2e751bd1c4d706f27375911949ba6bb62e1c"
   }
  }
 },
 "nbformat": 4,
 "nbformat_minor": 2
}
